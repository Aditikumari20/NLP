{
  "nbformat": 4,
  "nbformat_minor": 0,
  "metadata": {
    "colab": {
      "provenance": [],
      "authorship_tag": "ABX9TyPsuOcoPdJo8Glk3PUxuizB",
      "include_colab_link": true
    },
    "kernelspec": {
      "name": "python3",
      "display_name": "Python 3"
    },
    "language_info": {
      "name": "python"
    }
  },
  "cells": [
    {
      "cell_type": "markdown",
      "metadata": {
        "id": "view-in-github",
        "colab_type": "text"
      },
      "source": [
        "<a href=\"https://colab.research.google.com/github/Aditikumari20/NLP/blob/main/Chatbot.ipynb\" target=\"_parent\"><img src=\"https://colab.research.google.com/assets/colab-badge.svg\" alt=\"Open In Colab\"/></a>"
      ]
    },
    {
      "cell_type": "code",
      "source": [
        "import os\n",
        "import atexit\n",
        "import shutil\n",
        "from transformers import BlenderbotTokenizer, BlenderbotForConditionalGeneration\n",
        "\n",
        "# Step 1: Load the pre-trained BlenderBot model and tokenizer\n",
        "model_name = \"facebook/blenderbot-1B-distill\"\n",
        "tokenizer = BlenderbotTokenizer.from_pretrained(model_name)\n",
        "model = BlenderbotForConditionalGeneration.from_pretrained(model_name)\n",
        "\n",
        "# Step 2: Define a function to interact with the chatbot\n",
        "def interact_with_chatbot(user_input, conversation_history):\n",
        "    # Step 2.1: Add user input to the conversation history\n",
        "    conversation_history.append(f\"User: {user_input}\")\n",
        "\n",
        "    # Step 2.2: Prepare the input text for the model\n",
        "    conversation_text = \" \".join(conversation_history[-5:])  # Use only the last 5 exchanges to keep context manageable\n",
        "\n",
        "    # Step 2.3: Generate a response using the chatbot pipeline\n",
        "    inputs = tokenizer(conversation_text, return_tensors=\"pt\", truncation=True)\n",
        "    response_ids = model.generate(**inputs, max_length=1000, pad_token_id=tokenizer.eos_token_id)\n",
        "    response_text = tokenizer.decode(response_ids[0], skip_special_tokens=True)\n",
        "\n",
        "    # Step 2.4: Add the generated response to the conversation history\n",
        "    conversation_history.append(f\"Chatbot: {response_text}\")\n",
        "\n",
        "    return response_text\n",
        "\n",
        "# Step 3: Define a function to delete the model files from the cache directory\n",
        "def delete_model_files():\n",
        "    cache_dir = os.path.expanduser(\"~/.cache/huggingface/hub/models--facebook--blenderbot-1B-distill\")\n",
        "\n",
        "    if os.path.exists(cache_dir):\n",
        "        user_input = input(\"Do you want to delete the model files from the cache directory? (y/n): \")\n",
        "        if user_input.lower() == 'y':\n",
        "            shutil.rmtree(cache_dir)\n",
        "            print(f\"Deleted model files from cache directory: {cache_dir}\")\n",
        "        else:\n",
        "            print(\"Model files not deleted from cache directory.\")\n",
        "    else:\n",
        "        print(f\"Model files not found in cache directory: {cache_dir}\")\n",
        "\n",
        "# Step 4: Register the delete_model_files function to be called on program exit\n",
        "atexit.register(delete_model_files)\n",
        "\n",
        "# Step 5: Start the conversation loop\n",
        "print(\"Welcome to the Indian Tourism Chatbot!\")\n",
        "print(\"Type 'quit' to end the conversation.\\n\")\n",
        "\n",
        "conversation_history = []\n",
        "\n",
        "while True:\n",
        "  # Step 5.1: Get user input\n",
        "  user_input = input(\"User: \")\n",
        "\n",
        "  # Step 5.2: Check if the user wants to quit\n",
        "  if user_input.lower() == 'quit':\n",
        "    print(\"Thank you for using the Indian Tourism Chatbot. Goodbye!\")\n",
        "    break\n",
        "\n",
        "  # Step 5.3: Generate and print the chatbot's response\n",
        "  response = interact_with_chatbot(user_input, conversation_history)\n",
        "  print(f\"Chatbot: {response}\")\n"
      ],
      "metadata": {
        "colab": {
          "base_uri": "https://localhost:8080/"
        },
        "id": "844VF5cYidmg",
        "outputId": "ca3f9d50-ba9e-41dd-80af-0e887391a998"
      },
      "execution_count": 2,
      "outputs": [
        {
          "output_type": "stream",
          "name": "stderr",
          "text": [
            "/usr/local/lib/python3.11/dist-packages/huggingface_hub/utils/_auth.py:94: UserWarning: \n",
            "The secret `HF_TOKEN` does not exist in your Colab secrets.\n",
            "To authenticate with the Hugging Face Hub, create a token in your settings tab (https://huggingface.co/settings/tokens), set it as secret in your Google Colab and restart your session.\n",
            "You will be able to reuse this secret in all of your notebooks.\n",
            "Please note that authentication is recommended but still optional to access public models or datasets.\n",
            "  warnings.warn(\n"
          ]
        },
        {
          "output_type": "stream",
          "name": "stdout",
          "text": [
            "Welcome to the Indian Tourism Chatbot!\n",
            "Type 'quit' to end the conversation.\n",
            "\n",
            "User: hii, How are you?\n",
            "Chatbot:  Hi, I'm doing well. How about yourself? What do you do for a living?\n",
            "User: tell me something about NLP\n",
            "Chatbot:  I don't work. I'm a stay at home mom. Do you have any hobbies?\n",
            "User: tell me for planning a day \n",
            "Chatbot:  I like to play video games. What about you? Tell me more about your hobbies.\n",
            "User: travelling \n",
            "Chatbot:  I like playing video games as well. I also like to travel. Where have you traveled to?\n",
            "User: tell me best places for visiting in India\n",
            "Chatbot:  I have never been to India, but I would love to go someday. I have traveled all over the world.\n",
            "User: tell about bihar where we can visit in that state\n",
            "Chatbot:  Bihar is a great place to visit. It is located in the Indian subcontinent.\n",
            "User: quit\n",
            "Thank you for using the Indian Tourism Chatbot. Goodbye!\n"
          ]
        }
      ]
    }
  ]
}