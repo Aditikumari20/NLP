{
  "nbformat": 4,
  "nbformat_minor": 0,
  "metadata": {
    "colab": {
      "provenance": [],
      "authorship_tag": "ABX9TyMuzeSriy2tpuAq46ih5XMM",
      "include_colab_link": true
    },
    "kernelspec": {
      "name": "python3",
      "display_name": "Python 3"
    },
    "language_info": {
      "name": "python"
    }
  },
  "cells": [
    {
      "cell_type": "markdown",
      "metadata": {
        "id": "view-in-github",
        "colab_type": "text"
      },
      "source": [
        "<a href=\"https://colab.research.google.com/github/Aditikumari20/NLP/blob/main/Amazon_Food_Review.ipynb\" target=\"_parent\"><img src=\"https://colab.research.google.com/assets/colab-badge.svg\" alt=\"Open In Colab\"/></a>"
      ]
    },
    {
      "cell_type": "code",
      "source": [
        "!pip install sagemaker"
      ],
      "metadata": {
        "colab": {
          "base_uri": "https://localhost:8080/"
        },
        "id": "p0qqa1TBviwX",
        "outputId": "4613389b-d300-4b45-9799-ec2a8afd6cfd"
      },
      "execution_count": 1,
      "outputs": [
        {
          "output_type": "stream",
          "name": "stdout",
          "text": [
            "Requirement already satisfied: sagemaker in /usr/local/lib/python3.11/dist-packages (2.242.0)\n",
            "Requirement already satisfied: attrs<24,>=23.1.0 in /usr/local/lib/python3.11/dist-packages (from sagemaker) (23.2.0)\n",
            "Requirement already satisfied: boto3<2.0,>=1.35.75 in /usr/local/lib/python3.11/dist-packages (from sagemaker) (1.37.19)\n",
            "Requirement already satisfied: cloudpickle>=2.2.1 in /usr/local/lib/python3.11/dist-packages (from sagemaker) (3.1.1)\n",
            "Requirement already satisfied: docker in /usr/local/lib/python3.11/dist-packages (from sagemaker) (7.1.0)\n",
            "Requirement already satisfied: fastapi in /usr/local/lib/python3.11/dist-packages (from sagemaker) (0.115.12)\n",
            "Requirement already satisfied: google-pasta in /usr/local/lib/python3.11/dist-packages (from sagemaker) (0.2.0)\n",
            "Requirement already satisfied: importlib-metadata<7.0,>=1.4.0 in /usr/local/lib/python3.11/dist-packages (from sagemaker) (6.11.0)\n",
            "Requirement already satisfied: jsonschema in /usr/local/lib/python3.11/dist-packages (from sagemaker) (4.23.0)\n",
            "Requirement already satisfied: numpy<2.0,>=1.9.0 in /usr/local/lib/python3.11/dist-packages (from sagemaker) (1.26.4)\n",
            "Requirement already satisfied: omegaconf<=2.3,>=2.2 in /usr/local/lib/python3.11/dist-packages (from sagemaker) (2.3.0)\n",
            "Requirement already satisfied: packaging>=20.0 in /usr/local/lib/python3.11/dist-packages (from sagemaker) (24.2)\n",
            "Requirement already satisfied: pandas in /usr/local/lib/python3.11/dist-packages (from sagemaker) (2.2.2)\n",
            "Requirement already satisfied: pathos in /usr/local/lib/python3.11/dist-packages (from sagemaker) (0.3.3)\n",
            "Requirement already satisfied: platformdirs in /usr/local/lib/python3.11/dist-packages (from sagemaker) (4.3.7)\n",
            "Requirement already satisfied: protobuf<6.0,>=3.12 in /usr/local/lib/python3.11/dist-packages (from sagemaker) (5.29.4)\n",
            "Requirement already satisfied: psutil in /usr/local/lib/python3.11/dist-packages (from sagemaker) (5.9.5)\n",
            "Requirement already satisfied: pyyaml~=6.0 in /usr/local/lib/python3.11/dist-packages (from sagemaker) (6.0.2)\n",
            "Requirement already satisfied: requests in /usr/local/lib/python3.11/dist-packages (from sagemaker) (2.32.3)\n",
            "Requirement already satisfied: sagemaker-core<2.0.0,>=1.0.17 in /usr/local/lib/python3.11/dist-packages (from sagemaker) (1.0.25)\n",
            "Requirement already satisfied: schema in /usr/local/lib/python3.11/dist-packages (from sagemaker) (0.7.7)\n",
            "Requirement already satisfied: smdebug-rulesconfig==1.0.1 in /usr/local/lib/python3.11/dist-packages (from sagemaker) (1.0.1)\n",
            "Requirement already satisfied: tblib<4,>=1.7.0 in /usr/local/lib/python3.11/dist-packages (from sagemaker) (3.0.0)\n",
            "Requirement already satisfied: tqdm in /usr/local/lib/python3.11/dist-packages (from sagemaker) (4.67.1)\n",
            "Requirement already satisfied: urllib3<3.0.0,>=1.26.8 in /usr/local/lib/python3.11/dist-packages (from sagemaker) (2.3.0)\n",
            "Requirement already satisfied: uvicorn in /usr/local/lib/python3.11/dist-packages (from sagemaker) (0.34.0)\n",
            "Requirement already satisfied: botocore<1.38.0,>=1.37.19 in /usr/local/lib/python3.11/dist-packages (from boto3<2.0,>=1.35.75->sagemaker) (1.37.19)\n",
            "Requirement already satisfied: jmespath<2.0.0,>=0.7.1 in /usr/local/lib/python3.11/dist-packages (from boto3<2.0,>=1.35.75->sagemaker) (1.0.1)\n",
            "Requirement already satisfied: s3transfer<0.12.0,>=0.11.0 in /usr/local/lib/python3.11/dist-packages (from boto3<2.0,>=1.35.75->sagemaker) (0.11.4)\n",
            "Requirement already satisfied: zipp>=0.5 in /usr/local/lib/python3.11/dist-packages (from importlib-metadata<7.0,>=1.4.0->sagemaker) (3.21.0)\n",
            "Requirement already satisfied: antlr4-python3-runtime==4.9.* in /usr/local/lib/python3.11/dist-packages (from omegaconf<=2.3,>=2.2->sagemaker) (4.9.3)\n",
            "Requirement already satisfied: pydantic<3.0.0,>=2.0.0 in /usr/local/lib/python3.11/dist-packages (from sagemaker-core<2.0.0,>=1.0.17->sagemaker) (2.10.6)\n",
            "Requirement already satisfied: rich<14.0.0,>=13.0.0 in /usr/local/lib/python3.11/dist-packages (from sagemaker-core<2.0.0,>=1.0.17->sagemaker) (13.9.4)\n",
            "Requirement already satisfied: mock<5.0,>4.0 in /usr/local/lib/python3.11/dist-packages (from sagemaker-core<2.0.0,>=1.0.17->sagemaker) (4.0.3)\n",
            "Requirement already satisfied: jsonschema-specifications>=2023.03.6 in /usr/local/lib/python3.11/dist-packages (from jsonschema->sagemaker) (2024.10.1)\n",
            "Requirement already satisfied: referencing>=0.28.4 in /usr/local/lib/python3.11/dist-packages (from jsonschema->sagemaker) (0.36.2)\n",
            "Requirement already satisfied: rpds-py>=0.7.1 in /usr/local/lib/python3.11/dist-packages (from jsonschema->sagemaker) (0.23.1)\n",
            "Requirement already satisfied: charset-normalizer<4,>=2 in /usr/local/lib/python3.11/dist-packages (from requests->sagemaker) (3.4.1)\n",
            "Requirement already satisfied: idna<4,>=2.5 in /usr/local/lib/python3.11/dist-packages (from requests->sagemaker) (3.10)\n",
            "Requirement already satisfied: certifi>=2017.4.17 in /usr/local/lib/python3.11/dist-packages (from requests->sagemaker) (2025.1.31)\n",
            "Requirement already satisfied: starlette<0.47.0,>=0.40.0 in /usr/local/lib/python3.11/dist-packages (from fastapi->sagemaker) (0.46.1)\n",
            "Requirement already satisfied: typing-extensions>=4.8.0 in /usr/local/lib/python3.11/dist-packages (from fastapi->sagemaker) (4.12.2)\n",
            "Requirement already satisfied: six in /usr/local/lib/python3.11/dist-packages (from google-pasta->sagemaker) (1.17.0)\n",
            "Requirement already satisfied: python-dateutil>=2.8.2 in /usr/local/lib/python3.11/dist-packages (from pandas->sagemaker) (2.8.2)\n",
            "Requirement already satisfied: pytz>=2020.1 in /usr/local/lib/python3.11/dist-packages (from pandas->sagemaker) (2025.1)\n",
            "Requirement already satisfied: tzdata>=2022.7 in /usr/local/lib/python3.11/dist-packages (from pandas->sagemaker) (2025.1)\n",
            "Requirement already satisfied: ppft>=1.7.6.9 in /usr/local/lib/python3.11/dist-packages (from pathos->sagemaker) (1.7.6.9)\n",
            "Requirement already satisfied: dill>=0.3.9 in /usr/local/lib/python3.11/dist-packages (from pathos->sagemaker) (0.3.9)\n",
            "Requirement already satisfied: pox>=0.3.5 in /usr/local/lib/python3.11/dist-packages (from pathos->sagemaker) (0.3.5)\n",
            "Requirement already satisfied: multiprocess>=0.70.17 in /usr/local/lib/python3.11/dist-packages (from pathos->sagemaker) (0.70.17)\n",
            "Requirement already satisfied: click>=7.0 in /usr/local/lib/python3.11/dist-packages (from uvicorn->sagemaker) (8.1.8)\n",
            "Requirement already satisfied: h11>=0.8 in /usr/local/lib/python3.11/dist-packages (from uvicorn->sagemaker) (0.14.0)\n",
            "Requirement already satisfied: annotated-types>=0.6.0 in /usr/local/lib/python3.11/dist-packages (from pydantic<3.0.0,>=2.0.0->sagemaker-core<2.0.0,>=1.0.17->sagemaker) (0.7.0)\n",
            "Requirement already satisfied: pydantic-core==2.27.2 in /usr/local/lib/python3.11/dist-packages (from pydantic<3.0.0,>=2.0.0->sagemaker-core<2.0.0,>=1.0.17->sagemaker) (2.27.2)\n",
            "Requirement already satisfied: markdown-it-py>=2.2.0 in /usr/local/lib/python3.11/dist-packages (from rich<14.0.0,>=13.0.0->sagemaker-core<2.0.0,>=1.0.17->sagemaker) (3.0.0)\n",
            "Requirement already satisfied: pygments<3.0.0,>=2.13.0 in /usr/local/lib/python3.11/dist-packages (from rich<14.0.0,>=13.0.0->sagemaker-core<2.0.0,>=1.0.17->sagemaker) (2.18.0)\n",
            "Requirement already satisfied: anyio<5,>=3.6.2 in /usr/local/lib/python3.11/dist-packages (from starlette<0.47.0,>=0.40.0->fastapi->sagemaker) (4.9.0)\n",
            "Requirement already satisfied: sniffio>=1.1 in /usr/local/lib/python3.11/dist-packages (from anyio<5,>=3.6.2->starlette<0.47.0,>=0.40.0->fastapi->sagemaker) (1.3.1)\n",
            "Requirement already satisfied: mdurl~=0.1 in /usr/local/lib/python3.11/dist-packages (from markdown-it-py>=2.2.0->rich<14.0.0,>=13.0.0->sagemaker-core<2.0.0,>=1.0.17->sagemaker) (0.1.2)\n"
          ]
        }
      ]
    },
    {
      "cell_type": "code",
      "source": [
        "import sagemaker\n",
        "import boto3\n",
        "import pandas as pd\n",
        "\n",
        "sagemaker_session = sagemaker.Session()\n",
        "role = sagemaker.get_execution_role()\n",
        "bucket = sagemaker_session.default_bucket()\n",
        "prefix = \"nlp-model-demo\""
      ],
      "metadata": {
        "colab": {
          "base_uri": "https://localhost:8080/",
          "height": 406
        },
        "id": "QYEXSPiOvvcR",
        "outputId": "e0dbf7e8-51c7-4bdd-c9bb-35453bce9934"
      },
      "execution_count": 4,
      "outputs": [
        {
          "output_type": "display_data",
          "data": {
            "text/plain": [
              "\u001b[38;2;255;0;0m╭─\u001b[0m\u001b[38;2;255;0;0m──────────────────────────────\u001b[0m\u001b[38;2;255;0;0m \u001b[0m\u001b[1;38;2;255;0;0mTraceback \u001b[0m\u001b[1;2;38;2;255;0;0m(most recent call last)\u001b[0m\u001b[38;2;255;0;0m \u001b[0m\u001b[38;2;255;0;0m───────────────────────────────\u001b[0m\u001b[38;2;255;0;0m─╮\u001b[0m\n",
              "\u001b[38;2;255;0;0m│\u001b[0m in \u001b[92m<cell line: 0>\u001b[0m:\u001b[94m5\u001b[0m                                                                              \u001b[38;2;255;0;0m│\u001b[0m\n",
              "\u001b[38;2;255;0;0m│\u001b[0m                                                                                                  \u001b[38;2;255;0;0m│\u001b[0m\n",
              "\u001b[38;2;255;0;0m│\u001b[0m \u001b[2;33m/usr/local/lib/python3.11/dist-packages/sagemaker/\u001b[0m\u001b[1;33msession.py\u001b[0m:\u001b[94m265\u001b[0m in \u001b[92m__init__\u001b[0m                     \u001b[38;2;255;0;0m│\u001b[0m\n",
              "\u001b[38;2;255;0;0m│\u001b[0m                                                                                                  \u001b[38;2;255;0;0m│\u001b[0m\n",
              "\u001b[38;2;255;0;0m│\u001b[0m   \u001b[2m 262 \u001b[0m\u001b[2m│   │   \u001b[0m\u001b[96mself\u001b[0m.lambda_client = \u001b[94mNone\u001b[0m                                                         \u001b[38;2;255;0;0m│\u001b[0m\n",
              "\u001b[38;2;255;0;0m│\u001b[0m   \u001b[2m 263 \u001b[0m\u001b[2m│   │   \u001b[0m\u001b[96mself\u001b[0m.settings = settings \u001b[94mif\u001b[0m settings \u001b[94melse\u001b[0m SessionSettings()                       \u001b[38;2;255;0;0m│\u001b[0m\n",
              "\u001b[38;2;255;0;0m│\u001b[0m   \u001b[2m 264 \u001b[0m\u001b[2m│   │   \u001b[0m                                                                                  \u001b[38;2;255;0;0m│\u001b[0m\n",
              "\u001b[38;2;255;0;0m│\u001b[0m \u001b[31m❱ \u001b[0m 265 \u001b[2m│   │   \u001b[0m\u001b[96mself\u001b[0m._initialize(                                                                 \u001b[38;2;255;0;0m│\u001b[0m\n",
              "\u001b[38;2;255;0;0m│\u001b[0m   \u001b[2m 266 \u001b[0m\u001b[2m│   │   │   \u001b[0mboto_session=boto_session,                                                    \u001b[38;2;255;0;0m│\u001b[0m\n",
              "\u001b[38;2;255;0;0m│\u001b[0m   \u001b[2m 267 \u001b[0m\u001b[2m│   │   │   \u001b[0msagemaker_client=sagemaker_client,                                            \u001b[38;2;255;0;0m│\u001b[0m\n",
              "\u001b[38;2;255;0;0m│\u001b[0m   \u001b[2m 268 \u001b[0m\u001b[2m│   │   │   \u001b[0msagemaker_runtime_client=sagemaker_runtime_client,                            \u001b[38;2;255;0;0m│\u001b[0m\n",
              "\u001b[38;2;255;0;0m│\u001b[0m                                                                                                  \u001b[38;2;255;0;0m│\u001b[0m\n",
              "\u001b[38;2;255;0;0m│\u001b[0m \u001b[2;33m/usr/local/lib/python3.11/dist-packages/sagemaker/\u001b[0m\u001b[1;33msession.py\u001b[0m:\u001b[94m293\u001b[0m in \u001b[92m_initialize\u001b[0m                  \u001b[38;2;255;0;0m│\u001b[0m\n",
              "\u001b[38;2;255;0;0m│\u001b[0m                                                                                                  \u001b[38;2;255;0;0m│\u001b[0m\n",
              "\u001b[38;2;255;0;0m│\u001b[0m   \u001b[2m 290 \u001b[0m\u001b[2m│   │   \u001b[0m                                                                                  \u001b[38;2;255;0;0m│\u001b[0m\n",
              "\u001b[38;2;255;0;0m│\u001b[0m   \u001b[2m 291 \u001b[0m\u001b[2m│   │   \u001b[0m\u001b[96mself\u001b[0m._region_name = \u001b[96mself\u001b[0m.boto_session.region_name                                 \u001b[38;2;255;0;0m│\u001b[0m\n",
              "\u001b[38;2;255;0;0m│\u001b[0m   \u001b[2m 292 \u001b[0m\u001b[2m│   │   \u001b[0m\u001b[94mif\u001b[0m \u001b[96mself\u001b[0m._region_name \u001b[95mis\u001b[0m \u001b[94mNone\u001b[0m:                                                     \u001b[38;2;255;0;0m│\u001b[0m\n",
              "\u001b[38;2;255;0;0m│\u001b[0m \u001b[31m❱ \u001b[0m 293 \u001b[2m│   │   │   \u001b[0m\u001b[1;4;94mraise\u001b[0m\u001b[1;4m \u001b[0m\u001b[1;4;96mValueError\u001b[0m\u001b[1;4m(\u001b[0m                                                             \u001b[38;2;255;0;0m│\u001b[0m\n",
              "\u001b[38;2;255;0;0m│\u001b[0m   \u001b[2m 294 \u001b[0m\u001b[1;2;4m│   │   │   │   \u001b[0m\u001b[1;4;33m\"\u001b[0m\u001b[1;4;33mMust setup local AWS configuration with a region supported by SageMaker\u001b[0m  \u001b[38;2;255;0;0m│\u001b[0m\n",
              "\u001b[38;2;255;0;0m│\u001b[0m   \u001b[2m 295 \u001b[0m\u001b[1;2;4m│   │   │   \u001b[0m\u001b[1;4m)\u001b[0m                                                                             \u001b[38;2;255;0;0m│\u001b[0m\n",
              "\u001b[38;2;255;0;0m│\u001b[0m   \u001b[2m 296 \u001b[0m                                                                                          \u001b[38;2;255;0;0m│\u001b[0m\n",
              "\u001b[38;2;255;0;0m╰──────────────────────────────────────────────────────────────────────────────────────────────────╯\u001b[0m\n",
              "\u001b[1;91mValueError: \u001b[0mMust setup local AWS configuration with a region supported by SageMaker.\n"
            ],
            "text/html": [
              "<pre style=\"white-space:pre;overflow-x:auto;line-height:normal;font-family:Menlo,'DejaVu Sans Mono',consolas,'Courier New',monospace\"><span style=\"color: #ff0000; text-decoration-color: #ff0000\">╭─────────────────────────────── </span><span style=\"color: #ff0000; text-decoration-color: #ff0000; font-weight: bold\">Traceback </span><span style=\"color: #ff7f7f; text-decoration-color: #ff7f7f; font-weight: bold\">(most recent call last)</span><span style=\"color: #ff0000; text-decoration-color: #ff0000\"> ────────────────────────────────╮</span>\n",
              "<span style=\"color: #ff0000; text-decoration-color: #ff0000\">│</span> in <span style=\"color: #00ff00; text-decoration-color: #00ff00\">&lt;cell line: 0&gt;</span>:<span style=\"color: #0000ff; text-decoration-color: #0000ff\">5</span>                                                                              <span style=\"color: #ff0000; text-decoration-color: #ff0000\">│</span>\n",
              "<span style=\"color: #ff0000; text-decoration-color: #ff0000\">│</span>                                                                                                  <span style=\"color: #ff0000; text-decoration-color: #ff0000\">│</span>\n",
              "<span style=\"color: #ff0000; text-decoration-color: #ff0000\">│</span> <span style=\"color: #bfbf7f; text-decoration-color: #bfbf7f\">/usr/local/lib/python3.11/dist-packages/sagemaker/</span><span style=\"color: #808000; text-decoration-color: #808000; font-weight: bold\">session.py</span>:<span style=\"color: #0000ff; text-decoration-color: #0000ff\">265</span> in <span style=\"color: #00ff00; text-decoration-color: #00ff00\">__init__</span>                     <span style=\"color: #ff0000; text-decoration-color: #ff0000\">│</span>\n",
              "<span style=\"color: #ff0000; text-decoration-color: #ff0000\">│</span>                                                                                                  <span style=\"color: #ff0000; text-decoration-color: #ff0000\">│</span>\n",
              "<span style=\"color: #ff0000; text-decoration-color: #ff0000\">│</span>   <span style=\"color: #7f7f7f; text-decoration-color: #7f7f7f\"> 262 </span><span style=\"color: #7f7f7f; text-decoration-color: #7f7f7f\">│   │   </span><span style=\"color: #00ffff; text-decoration-color: #00ffff\">self</span>.lambda_client = <span style=\"color: #0000ff; text-decoration-color: #0000ff\">None</span>                                                         <span style=\"color: #ff0000; text-decoration-color: #ff0000\">│</span>\n",
              "<span style=\"color: #ff0000; text-decoration-color: #ff0000\">│</span>   <span style=\"color: #7f7f7f; text-decoration-color: #7f7f7f\"> 263 </span><span style=\"color: #7f7f7f; text-decoration-color: #7f7f7f\">│   │   </span><span style=\"color: #00ffff; text-decoration-color: #00ffff\">self</span>.settings = settings <span style=\"color: #0000ff; text-decoration-color: #0000ff\">if</span> settings <span style=\"color: #0000ff; text-decoration-color: #0000ff\">else</span> SessionSettings()                       <span style=\"color: #ff0000; text-decoration-color: #ff0000\">│</span>\n",
              "<span style=\"color: #ff0000; text-decoration-color: #ff0000\">│</span>   <span style=\"color: #7f7f7f; text-decoration-color: #7f7f7f\"> 264 </span><span style=\"color: #7f7f7f; text-decoration-color: #7f7f7f\">│   │   </span>                                                                                  <span style=\"color: #ff0000; text-decoration-color: #ff0000\">│</span>\n",
              "<span style=\"color: #ff0000; text-decoration-color: #ff0000\">│</span> <span style=\"color: #800000; text-decoration-color: #800000\">❱ </span> 265 <span style=\"color: #7f7f7f; text-decoration-color: #7f7f7f\">│   │   </span><span style=\"color: #00ffff; text-decoration-color: #00ffff\">self</span>._initialize(                                                                 <span style=\"color: #ff0000; text-decoration-color: #ff0000\">│</span>\n",
              "<span style=\"color: #ff0000; text-decoration-color: #ff0000\">│</span>   <span style=\"color: #7f7f7f; text-decoration-color: #7f7f7f\"> 266 </span><span style=\"color: #7f7f7f; text-decoration-color: #7f7f7f\">│   │   │   </span>boto_session=boto_session,                                                    <span style=\"color: #ff0000; text-decoration-color: #ff0000\">│</span>\n",
              "<span style=\"color: #ff0000; text-decoration-color: #ff0000\">│</span>   <span style=\"color: #7f7f7f; text-decoration-color: #7f7f7f\"> 267 </span><span style=\"color: #7f7f7f; text-decoration-color: #7f7f7f\">│   │   │   </span>sagemaker_client=sagemaker_client,                                            <span style=\"color: #ff0000; text-decoration-color: #ff0000\">│</span>\n",
              "<span style=\"color: #ff0000; text-decoration-color: #ff0000\">│</span>   <span style=\"color: #7f7f7f; text-decoration-color: #7f7f7f\"> 268 </span><span style=\"color: #7f7f7f; text-decoration-color: #7f7f7f\">│   │   │   </span>sagemaker_runtime_client=sagemaker_runtime_client,                            <span style=\"color: #ff0000; text-decoration-color: #ff0000\">│</span>\n",
              "<span style=\"color: #ff0000; text-decoration-color: #ff0000\">│</span>                                                                                                  <span style=\"color: #ff0000; text-decoration-color: #ff0000\">│</span>\n",
              "<span style=\"color: #ff0000; text-decoration-color: #ff0000\">│</span> <span style=\"color: #bfbf7f; text-decoration-color: #bfbf7f\">/usr/local/lib/python3.11/dist-packages/sagemaker/</span><span style=\"color: #808000; text-decoration-color: #808000; font-weight: bold\">session.py</span>:<span style=\"color: #0000ff; text-decoration-color: #0000ff\">293</span> in <span style=\"color: #00ff00; text-decoration-color: #00ff00\">_initialize</span>                  <span style=\"color: #ff0000; text-decoration-color: #ff0000\">│</span>\n",
              "<span style=\"color: #ff0000; text-decoration-color: #ff0000\">│</span>                                                                                                  <span style=\"color: #ff0000; text-decoration-color: #ff0000\">│</span>\n",
              "<span style=\"color: #ff0000; text-decoration-color: #ff0000\">│</span>   <span style=\"color: #7f7f7f; text-decoration-color: #7f7f7f\"> 290 </span><span style=\"color: #7f7f7f; text-decoration-color: #7f7f7f\">│   │   </span>                                                                                  <span style=\"color: #ff0000; text-decoration-color: #ff0000\">│</span>\n",
              "<span style=\"color: #ff0000; text-decoration-color: #ff0000\">│</span>   <span style=\"color: #7f7f7f; text-decoration-color: #7f7f7f\"> 291 </span><span style=\"color: #7f7f7f; text-decoration-color: #7f7f7f\">│   │   </span><span style=\"color: #00ffff; text-decoration-color: #00ffff\">self</span>._region_name = <span style=\"color: #00ffff; text-decoration-color: #00ffff\">self</span>.boto_session.region_name                                 <span style=\"color: #ff0000; text-decoration-color: #ff0000\">│</span>\n",
              "<span style=\"color: #ff0000; text-decoration-color: #ff0000\">│</span>   <span style=\"color: #7f7f7f; text-decoration-color: #7f7f7f\"> 292 </span><span style=\"color: #7f7f7f; text-decoration-color: #7f7f7f\">│   │   </span><span style=\"color: #0000ff; text-decoration-color: #0000ff\">if</span> <span style=\"color: #00ffff; text-decoration-color: #00ffff\">self</span>._region_name <span style=\"color: #ff00ff; text-decoration-color: #ff00ff\">is</span> <span style=\"color: #0000ff; text-decoration-color: #0000ff\">None</span>:                                                     <span style=\"color: #ff0000; text-decoration-color: #ff0000\">│</span>\n",
              "<span style=\"color: #ff0000; text-decoration-color: #ff0000\">│</span> <span style=\"color: #800000; text-decoration-color: #800000\">❱ </span> 293 <span style=\"color: #7f7f7f; text-decoration-color: #7f7f7f\">│   │   │   </span><span style=\"color: #0000ff; text-decoration-color: #0000ff; font-weight: bold; text-decoration: underline\">raise</span><span style=\"font-weight: bold; text-decoration: underline\"> </span><span style=\"color: #00ffff; text-decoration-color: #00ffff; font-weight: bold; text-decoration: underline\">ValueError</span><span style=\"font-weight: bold; text-decoration: underline\">(</span>                                                             <span style=\"color: #ff0000; text-decoration-color: #ff0000\">│</span>\n",
              "<span style=\"color: #ff0000; text-decoration-color: #ff0000\">│</span>   <span style=\"color: #7f7f7f; text-decoration-color: #7f7f7f\"> 294 </span><span style=\"color: #7f7f7f; text-decoration-color: #7f7f7f; font-weight: bold; text-decoration: underline\">│   │   │   │   </span><span style=\"color: #808000; text-decoration-color: #808000; font-weight: bold; text-decoration: underline\">\"Must setup local AWS configuration with a region supported by SageMaker</span>  <span style=\"color: #ff0000; text-decoration-color: #ff0000\">│</span>\n",
              "<span style=\"color: #ff0000; text-decoration-color: #ff0000\">│</span>   <span style=\"color: #7f7f7f; text-decoration-color: #7f7f7f\"> 295 </span><span style=\"color: #7f7f7f; text-decoration-color: #7f7f7f; font-weight: bold; text-decoration: underline\">│   │   │   </span><span style=\"font-weight: bold; text-decoration: underline\">)</span>                                                                             <span style=\"color: #ff0000; text-decoration-color: #ff0000\">│</span>\n",
              "<span style=\"color: #ff0000; text-decoration-color: #ff0000\">│</span>   <span style=\"color: #7f7f7f; text-decoration-color: #7f7f7f\"> 296 </span>                                                                                          <span style=\"color: #ff0000; text-decoration-color: #ff0000\">│</span>\n",
              "<span style=\"color: #ff0000; text-decoration-color: #ff0000\">╰──────────────────────────────────────────────────────────────────────────────────────────────────╯</span>\n",
              "<span style=\"color: #ff0000; text-decoration-color: #ff0000; font-weight: bold\">ValueError: </span>Must setup local AWS configuration with a region supported by SageMaker.\n",
              "</pre>\n"
            ]
          },
          "metadata": {}
        }
      ]
    },
    {
      "cell_type": "code",
      "source": [
        "# Load dataset\n",
        "df = pd.read_csv(\"Reviews.csv\")  # Ensure the dataset is available locally\n",
        "# Keep only required columns\n",
        "df = df[[\"Text\", \"Score\"]].dropna()\n",
        "# Convert scores into binary sentiment (1 = Positive, 0 = Negative)\n",
        "df[\"Sentiment\"] = df[\"Score\"]apply(lambda x: 1 if x > 3 else 0)\n",
        "df = df[[\"Text\", \"Sentiment\"]]\n",
        "# Save processed data\n",
        "df.to_csv(\"processed_reviews.csv\", index=False)\n",
        "# Upload to S3\n",
        "s3 = boto3.client(\"s3\")\n",
        "s3.upload_file(\"processed_reviews.csv\", bucket, f\"{prefix}/processed_reviews.csv\")\n",
        "# Store S3 path\n",
        "s3_train_data = f\"s3://{bucket}/{prefix}/processed_reviews.csv\"\n",
        "print(\"Data uploaded to:\", s3_train_data)"
      ],
      "metadata": {
        "colab": {
          "base_uri": "https://localhost:8080/",
          "height": 97
        },
        "id": "o8TXAsDTwHv5",
        "outputId": "5d5a6897-010a-4a36-9cd6-acdd82273ec0"
      },
      "execution_count": 6,
      "outputs": [
        {
          "output_type": "display_data",
          "data": {
            "text/plain": [
              "\u001b[91m╭──────────────────────────────────────────────────────────────────────────────────────────────────╮\u001b[0m\n",
              "\u001b[91m│\u001b[0m df\u001b[1m[\u001b[0m\u001b[33m\"Sentiment\"\u001b[0m\u001b[1m]\u001b[0m = df\u001b[1m[\u001b[0m\u001b[33m\"Score\"\u001b[0m\u001b[1m]\u001b[0m\u001b[1;38;2;225;0;225mapply\u001b[0m\u001b[1m(\u001b[0mlambda x: \u001b[94m1\u001b[0m if x > \u001b[94m3\u001b[0m else \u001b[94m0\u001b[0m\u001b[1m)\u001b[0m                                  \u001b[91m│\u001b[0m\n",
              "\u001b[91m│\u001b[0m                              \u001b[1;91m▲\u001b[0m                                                                   \u001b[91m│\u001b[0m\n",
              "\u001b[91m╰──────────────────────────────────────────────────────────────────────────────────────────────────╯\u001b[0m\n",
              "\u001b[1;91mSyntaxError: \u001b[0minvalid syntax\n"
            ],
            "text/html": [
              "<pre style=\"white-space:pre;overflow-x:auto;line-height:normal;font-family:Menlo,'DejaVu Sans Mono',consolas,'Courier New',monospace\"><span style=\"color: #ff0000; text-decoration-color: #ff0000\">╭──────────────────────────────────────────────────────────────────────────────────────────────────╮</span>\n",
              "<span style=\"color: #ff0000; text-decoration-color: #ff0000\">│</span> df<span style=\"font-weight: bold\">[</span><span style=\"color: #808000; text-decoration-color: #808000\">\"Sentiment\"</span><span style=\"font-weight: bold\">]</span> = df<span style=\"font-weight: bold\">[</span><span style=\"color: #808000; text-decoration-color: #808000\">\"Score\"</span><span style=\"font-weight: bold\">]</span><span style=\"color: #e100e1; text-decoration-color: #e100e1; font-weight: bold\">apply</span><span style=\"font-weight: bold\">(</span>lambda x: <span style=\"color: #0000ff; text-decoration-color: #0000ff\">1</span> if x &gt; <span style=\"color: #0000ff; text-decoration-color: #0000ff\">3</span> else <span style=\"color: #0000ff; text-decoration-color: #0000ff\">0</span><span style=\"font-weight: bold\">)</span>                                  <span style=\"color: #ff0000; text-decoration-color: #ff0000\">│</span>\n",
              "<span style=\"color: #ff0000; text-decoration-color: #ff0000\">│</span>                              <span style=\"color: #ff0000; text-decoration-color: #ff0000; font-weight: bold\">▲</span>                                                                   <span style=\"color: #ff0000; text-decoration-color: #ff0000\">│</span>\n",
              "<span style=\"color: #ff0000; text-decoration-color: #ff0000\">╰──────────────────────────────────────────────────────────────────────────────────────────────────╯</span>\n",
              "<span style=\"color: #ff0000; text-decoration-color: #ff0000; font-weight: bold\">SyntaxError: </span>invalid syntax\n",
              "</pre>\n"
            ]
          },
          "metadata": {}
        }
      ]
    },
    {
      "cell_type": "code",
      "source": [
        "# Load dataset\n",
        "df = pd.read_csv(\"Reviews.csv\")  # Ensure the dataset is available locally\n",
        "# Keep only required columns\n",
        "df = df[[\"Text\", \"Score\"]].dropna()\n",
        "# Convert scores into binary sentiment (1 = Positive, 0 = Negative)\n",
        "df[\"Sentiment\"] = df[\"Score\"]apply(lambda x: 1 if x > 3 else 0)\n",
        "df = df[[\"Text\", \"Sentiment\"]]\n",
        "# Save processed data\n",
        "df.to_csv(\"processed_reviews.csv\", index=False)\n",
        "# Upload to S3\n",
        "s3 = boto3.client(\"s3\")\n",
        "s3.upload_file(\"processed_reviews.csv\", bucket, f\"{prefix}/processed_reviews.csv\")\n",
        "# Store S3 path\n",
        "s3_train_data = f\"s3://{bucket}/{prefix}/processed_reviews.csv\"\n",
        "print(\"Data uploaded to:\", s3_train_data)"
      ],
      "metadata": {
        "colab": {
          "base_uri": "https://localhost:8080/",
          "height": 97
        },
        "id": "lGQR_ct1xOZN",
        "outputId": "0cbfd85d-fc00-4689-84dd-77a9b5340c5f"
      },
      "execution_count": 7,
      "outputs": [
        {
          "output_type": "display_data",
          "data": {
            "text/plain": [
              "\u001b[91m╭──────────────────────────────────────────────────────────────────────────────────────────────────╮\u001b[0m\n",
              "\u001b[91m│\u001b[0m df\u001b[1m[\u001b[0m\u001b[33m\"Sentiment\"\u001b[0m\u001b[1m]\u001b[0m = df\u001b[1m[\u001b[0m\u001b[33m\"Score\"\u001b[0m\u001b[1m]\u001b[0m\u001b[1;38;2;225;0;225mapply\u001b[0m\u001b[1m(\u001b[0mlambda x: \u001b[94m1\u001b[0m if x > \u001b[94m3\u001b[0m else \u001b[94m0\u001b[0m\u001b[1m)\u001b[0m                                  \u001b[91m│\u001b[0m\n",
              "\u001b[91m│\u001b[0m                              \u001b[1;91m▲\u001b[0m                                                                   \u001b[91m│\u001b[0m\n",
              "\u001b[91m╰──────────────────────────────────────────────────────────────────────────────────────────────────╯\u001b[0m\n",
              "\u001b[1;91mSyntaxError: \u001b[0minvalid syntax\n"
            ],
            "text/html": [
              "<pre style=\"white-space:pre;overflow-x:auto;line-height:normal;font-family:Menlo,'DejaVu Sans Mono',consolas,'Courier New',monospace\"><span style=\"color: #ff0000; text-decoration-color: #ff0000\">╭──────────────────────────────────────────────────────────────────────────────────────────────────╮</span>\n",
              "<span style=\"color: #ff0000; text-decoration-color: #ff0000\">│</span> df<span style=\"font-weight: bold\">[</span><span style=\"color: #808000; text-decoration-color: #808000\">\"Sentiment\"</span><span style=\"font-weight: bold\">]</span> = df<span style=\"font-weight: bold\">[</span><span style=\"color: #808000; text-decoration-color: #808000\">\"Score\"</span><span style=\"font-weight: bold\">]</span><span style=\"color: #e100e1; text-decoration-color: #e100e1; font-weight: bold\">apply</span><span style=\"font-weight: bold\">(</span>lambda x: <span style=\"color: #0000ff; text-decoration-color: #0000ff\">1</span> if x &gt; <span style=\"color: #0000ff; text-decoration-color: #0000ff\">3</span> else <span style=\"color: #0000ff; text-decoration-color: #0000ff\">0</span><span style=\"font-weight: bold\">)</span>                                  <span style=\"color: #ff0000; text-decoration-color: #ff0000\">│</span>\n",
              "<span style=\"color: #ff0000; text-decoration-color: #ff0000\">│</span>                              <span style=\"color: #ff0000; text-decoration-color: #ff0000; font-weight: bold\">▲</span>                                                                   <span style=\"color: #ff0000; text-decoration-color: #ff0000\">│</span>\n",
              "<span style=\"color: #ff0000; text-decoration-color: #ff0000\">╰──────────────────────────────────────────────────────────────────────────────────────────────────╯</span>\n",
              "<span style=\"color: #ff0000; text-decoration-color: #ff0000; font-weight: bold\">SyntaxError: </span>invalid syntax\n",
              "</pre>\n"
            ]
          },
          "metadata": {}
        }
      ]
    },
    {
      "cell_type": "code",
      "source": [
        "%%writefile train.py\n",
        "import argparse\n",
        "import os\n",
        "import pandas as pd\n",
        "import joblib\n",
        "from sklearn.feature_extraction.text import TfidfVectorizer\n",
        "from sklearn.linear_model import LogisticRegression\n",
        "from sklearn.pipeline import Pipeline\n",
        "\n",
        "def train():\n",
        "    # Argument parser for SageMaker input\n",
        "    parser = argparse.ArgumentParser()\n",
        "    parser.add_argument(\"--train_data\", type=str, default=os.environ[\"SM_CHANNEL_TRAIN\"])\n",
        "    args = parser.parse_args()\n",
        "    # Load dataset from the provided path\n",
        "    train_data_path = os.path.join(args.train_data, \"processed_reviews.csv\")\n",
        "    df = pd.read_csv(train_data_path)\n",
        "    # Split data\n",
        "    X = df[\"Text\"]\n",
        "    y = df[\"Sentiment\"]\n",
        "    # Create a text-processing pipeline\n",
        "    pipeline = Pipeline([\n",
        "        (\"tfidf\", TfidfVectorizer(stop_words=\"english\")),\n",
        "        (\"clf\", LogisticRegression())\n",
        "    ])\n",
        "    # Train model\n",
        "    pipeline.fit(X, y)\n",
        "    # Save trained model\n",
        "    model_path = os.path.join(\"/opt/ml/model\", \"model.joblib\")\n",
        "    joblib.dump(pipeline, model_path)\n",
        "    print(\"Model saved at\", model_path)\n",
        "if _name_ == \"_main_\":\n",
        "    train()"
      ],
      "metadata": {
        "colab": {
          "base_uri": "https://localhost:8080/"
        },
        "id": "HZwHcyOEzLOI",
        "outputId": "0c2968f9-0351-4ff2-9bdc-8bc0877f71b6"
      },
      "execution_count": 8,
      "outputs": [
        {
          "output_type": "stream",
          "name": "stdout",
          "text": [
            "Writing train.py\n"
          ]
        }
      ]
    },
    {
      "cell_type": "code",
      "source": [
        "from sagemaker.sklearn.estimator import SKLeran\n",
        "\n",
        "sklearn_estimator = SKLearn(\n",
        "    entry_point=\"train.py\",\n",
        "    framework_version=\"0.23-1\",\n",
        "    instance_type=\"ml.m5.large\",\n",
        "    role=role,\n",
        "    sagemaker_session=sagemaker_session,\n",
        ")\n",
        "sklearn_estimator.fit({\"train\": s3_train_data})"
      ],
      "metadata": {
        "colab": {
          "base_uri": "https://localhost:8080/",
          "height": 243
        },
        "id": "q_NoO2D4zLbs",
        "outputId": "ea54e621-1f3a-40bc-9204-0a2e2e220679"
      },
      "execution_count": 9,
      "outputs": [
        {
          "output_type": "display_data",
          "data": {
            "text/plain": [
              "\u001b[38;2;255;0;0m╭─\u001b[0m\u001b[38;2;255;0;0m──────────────────────────────\u001b[0m\u001b[38;2;255;0;0m \u001b[0m\u001b[1;38;2;255;0;0mTraceback \u001b[0m\u001b[1;2;38;2;255;0;0m(most recent call last)\u001b[0m\u001b[38;2;255;0;0m \u001b[0m\u001b[38;2;255;0;0m───────────────────────────────\u001b[0m\u001b[38;2;255;0;0m─╮\u001b[0m\n",
              "\u001b[38;2;255;0;0m│\u001b[0m \u001b[2;33m/usr/local/lib/python3.11/dist-packages/IPython/core/\u001b[0m\u001b[1;33minteractiveshell.py\u001b[0m:\u001b[94m3553\u001b[0m in \u001b[92mrun_code\u001b[0m        \u001b[38;2;255;0;0m│\u001b[0m\n",
              "\u001b[38;2;255;0;0m│\u001b[0m                                                                                                  \u001b[38;2;255;0;0m│\u001b[0m\n",
              "\u001b[38;2;255;0;0m│\u001b[0m   \u001b[2m3550 \u001b[0m\u001b[2m│   │   │   │   \u001b[0m\u001b[94melif\u001b[0m async_ :                                                             \u001b[38;2;255;0;0m│\u001b[0m\n",
              "\u001b[38;2;255;0;0m│\u001b[0m   \u001b[2m3551 \u001b[0m\u001b[2m│   │   │   │   │   \u001b[0m\u001b[94mawait\u001b[0m \u001b[96meval\u001b[0m(code_obj, \u001b[96mself\u001b[0m.user_global_ns, \u001b[96mself\u001b[0m.user_ns)               \u001b[38;2;255;0;0m│\u001b[0m\n",
              "\u001b[38;2;255;0;0m│\u001b[0m   \u001b[2m3552 \u001b[0m\u001b[2m│   │   │   │   \u001b[0m\u001b[94melse\u001b[0m:                                                                     \u001b[38;2;255;0;0m│\u001b[0m\n",
              "\u001b[38;2;255;0;0m│\u001b[0m \u001b[31m❱ \u001b[0m3553 \u001b[2m│   │   │   │   │   \u001b[0mexec(code_obj, \u001b[96mself\u001b[0m.user_global_ns, \u001b[96mself\u001b[0m.user_ns)                     \u001b[38;2;255;0;0m│\u001b[0m\n",
              "\u001b[38;2;255;0;0m│\u001b[0m   \u001b[2m3554 \u001b[0m\u001b[2m│   │   │   \u001b[0m\u001b[94mfinally\u001b[0m:                                                                      \u001b[38;2;255;0;0m│\u001b[0m\n",
              "\u001b[38;2;255;0;0m│\u001b[0m   \u001b[2m3555 \u001b[0m\u001b[2m│   │   │   │   \u001b[0m\u001b[2m# Reset our crash handler in place\u001b[0m                                        \u001b[38;2;255;0;0m│\u001b[0m\n",
              "\u001b[38;2;255;0;0m│\u001b[0m   \u001b[2m3556 \u001b[0m\u001b[2m│   │   │   │   \u001b[0msys.excepthook = old_excepthook                                           \u001b[38;2;255;0;0m│\u001b[0m\n",
              "\u001b[38;2;255;0;0m│\u001b[0m in \u001b[92m<cell line: 0>\u001b[0m:\u001b[94m1\u001b[0m                                                                              \u001b[38;2;255;0;0m│\u001b[0m\n",
              "\u001b[38;2;255;0;0m╰──────────────────────────────────────────────────────────────────────────────────────────────────╯\u001b[0m\n",
              "\u001b[1;91mImportError: \u001b[0mcannot import name \u001b[38;2;0;135;0m'SKLeran'\u001b[0m from \u001b[38;2;0;135;0m'sagemaker.sklearn.estimator'\u001b[0m \n",
              "\u001b[1m(\u001b[0m\u001b[38;2;225;0;225m/usr/local/lib/python3.11/dist-packages/sagemaker/sklearn/\u001b[0m\u001b[38;2;225;0;225mestimator.py\u001b[0m\u001b[1m)\u001b[0m\n"
            ],
            "text/html": [
              "<pre style=\"white-space:pre;overflow-x:auto;line-height:normal;font-family:Menlo,'DejaVu Sans Mono',consolas,'Courier New',monospace\"><span style=\"color: #ff0000; text-decoration-color: #ff0000\">╭─────────────────────────────── </span><span style=\"color: #ff0000; text-decoration-color: #ff0000; font-weight: bold\">Traceback </span><span style=\"color: #ff7f7f; text-decoration-color: #ff7f7f; font-weight: bold\">(most recent call last)</span><span style=\"color: #ff0000; text-decoration-color: #ff0000\"> ────────────────────────────────╮</span>\n",
              "<span style=\"color: #ff0000; text-decoration-color: #ff0000\">│</span> <span style=\"color: #bfbf7f; text-decoration-color: #bfbf7f\">/usr/local/lib/python3.11/dist-packages/IPython/core/</span><span style=\"color: #808000; text-decoration-color: #808000; font-weight: bold\">interactiveshell.py</span>:<span style=\"color: #0000ff; text-decoration-color: #0000ff\">3553</span> in <span style=\"color: #00ff00; text-decoration-color: #00ff00\">run_code</span>        <span style=\"color: #ff0000; text-decoration-color: #ff0000\">│</span>\n",
              "<span style=\"color: #ff0000; text-decoration-color: #ff0000\">│</span>                                                                                                  <span style=\"color: #ff0000; text-decoration-color: #ff0000\">│</span>\n",
              "<span style=\"color: #ff0000; text-decoration-color: #ff0000\">│</span>   <span style=\"color: #7f7f7f; text-decoration-color: #7f7f7f\">3550 </span><span style=\"color: #7f7f7f; text-decoration-color: #7f7f7f\">│   │   │   │   </span><span style=\"color: #0000ff; text-decoration-color: #0000ff\">elif</span> async_ :                                                             <span style=\"color: #ff0000; text-decoration-color: #ff0000\">│</span>\n",
              "<span style=\"color: #ff0000; text-decoration-color: #ff0000\">│</span>   <span style=\"color: #7f7f7f; text-decoration-color: #7f7f7f\">3551 </span><span style=\"color: #7f7f7f; text-decoration-color: #7f7f7f\">│   │   │   │   │   </span><span style=\"color: #0000ff; text-decoration-color: #0000ff\">await</span> <span style=\"color: #00ffff; text-decoration-color: #00ffff\">eval</span>(code_obj, <span style=\"color: #00ffff; text-decoration-color: #00ffff\">self</span>.user_global_ns, <span style=\"color: #00ffff; text-decoration-color: #00ffff\">self</span>.user_ns)               <span style=\"color: #ff0000; text-decoration-color: #ff0000\">│</span>\n",
              "<span style=\"color: #ff0000; text-decoration-color: #ff0000\">│</span>   <span style=\"color: #7f7f7f; text-decoration-color: #7f7f7f\">3552 </span><span style=\"color: #7f7f7f; text-decoration-color: #7f7f7f\">│   │   │   │   </span><span style=\"color: #0000ff; text-decoration-color: #0000ff\">else</span>:                                                                     <span style=\"color: #ff0000; text-decoration-color: #ff0000\">│</span>\n",
              "<span style=\"color: #ff0000; text-decoration-color: #ff0000\">│</span> <span style=\"color: #800000; text-decoration-color: #800000\">❱ </span>3553 <span style=\"color: #7f7f7f; text-decoration-color: #7f7f7f\">│   │   │   │   │   </span>exec(code_obj, <span style=\"color: #00ffff; text-decoration-color: #00ffff\">self</span>.user_global_ns, <span style=\"color: #00ffff; text-decoration-color: #00ffff\">self</span>.user_ns)                     <span style=\"color: #ff0000; text-decoration-color: #ff0000\">│</span>\n",
              "<span style=\"color: #ff0000; text-decoration-color: #ff0000\">│</span>   <span style=\"color: #7f7f7f; text-decoration-color: #7f7f7f\">3554 </span><span style=\"color: #7f7f7f; text-decoration-color: #7f7f7f\">│   │   │   </span><span style=\"color: #0000ff; text-decoration-color: #0000ff\">finally</span>:                                                                      <span style=\"color: #ff0000; text-decoration-color: #ff0000\">│</span>\n",
              "<span style=\"color: #ff0000; text-decoration-color: #ff0000\">│</span>   <span style=\"color: #7f7f7f; text-decoration-color: #7f7f7f\">3555 </span><span style=\"color: #7f7f7f; text-decoration-color: #7f7f7f\">│   │   │   │   </span><span style=\"color: #7f7f7f; text-decoration-color: #7f7f7f\"># Reset our crash handler in place</span>                                        <span style=\"color: #ff0000; text-decoration-color: #ff0000\">│</span>\n",
              "<span style=\"color: #ff0000; text-decoration-color: #ff0000\">│</span>   <span style=\"color: #7f7f7f; text-decoration-color: #7f7f7f\">3556 </span><span style=\"color: #7f7f7f; text-decoration-color: #7f7f7f\">│   │   │   │   </span>sys.excepthook = old_excepthook                                           <span style=\"color: #ff0000; text-decoration-color: #ff0000\">│</span>\n",
              "<span style=\"color: #ff0000; text-decoration-color: #ff0000\">│</span> in <span style=\"color: #00ff00; text-decoration-color: #00ff00\">&lt;cell line: 0&gt;</span>:<span style=\"color: #0000ff; text-decoration-color: #0000ff\">1</span>                                                                              <span style=\"color: #ff0000; text-decoration-color: #ff0000\">│</span>\n",
              "<span style=\"color: #ff0000; text-decoration-color: #ff0000\">╰──────────────────────────────────────────────────────────────────────────────────────────────────╯</span>\n",
              "<span style=\"color: #ff0000; text-decoration-color: #ff0000; font-weight: bold\">ImportError: </span>cannot import name <span style=\"color: #008700; text-decoration-color: #008700\">'SKLeran'</span> from <span style=\"color: #008700; text-decoration-color: #008700\">'sagemaker.sklearn.estimator'</span> \n",
              "<span style=\"font-weight: bold\">(</span><span style=\"color: #e100e1; text-decoration-color: #e100e1\">/usr/local/lib/python3.11/dist-packages/sagemaker/sklearn/estimator.py</span><span style=\"font-weight: bold\">)</span>\n",
              "</pre>\n"
            ]
          },
          "metadata": {}
        }
      ]
    },
    {
      "cell_type": "code",
      "source": [
        "%%writefile inference.py\n",
        "import joblib\n",
        "import os\n",
        "import json\n",
        "import pandas as pd\n",
        "# Load trained model\n",
        "def model_fn(model_dir):\n",
        "    model_path = os.path.join(model_dir, \"model.joblib\")\n",
        "    return joblib.load(model_path)\n",
        "# Parse input JSON\n",
        "def input_fn(request_body, request_content_type):\n",
        "    if request_content_type == \"application/json\":\n",
        "        data = json.loads(request_body)\n",
        "        return pd.DataFrame(data, columns=[\"Text\"])\n",
        "    else:\n",
        "        raise ValueError(\"Unsupported content type: {}\".format(request_content_type))\n",
        "# Generate predictions\n",
        "def predict_fn(input_data, model):\n",
        "    return model.predict(input_data[\"Text\"]).tolist()"
      ],
      "metadata": {
        "colab": {
          "base_uri": "https://localhost:8080/"
        },
        "id": "q4gEzFa9zLfI",
        "outputId": "892c8b33-01a0-423f-ef0d-765e14d32384"
      },
      "execution_count": 10,
      "outputs": [
        {
          "output_type": "stream",
          "name": "stdout",
          "text": [
            "Writing inference.py\n"
          ]
        }
      ]
    },
    {
      "cell_type": "markdown",
      "source": [
        "Deploy The Model In SageMaker"
      ],
      "metadata": {
        "id": "BIik6AWp1i6W"
      }
    },
    {
      "cell_type": "code",
      "source": [
        "from sagemaker.sklearn.modelimport SKLearnModel\n",
        "model_data = sklearn_estimator.model_data\n",
        "\n",
        "sklearn_model = SKLearnModel(\n",
        "    model_data=model_data,\n",
        "    role=role,\n",
        "    entrypoint=\"inference.py\",\n",
        "    framework_version=\"0.23-1\",\n",
        "    sagemaker_session=sagemaker_session,\n",
        ")\n",
        "predictor = sklearn_model.deploy(instance_type=\"ml.m5.large\",initial_instance_count=1)\n",
        ""
      ],
      "metadata": {
        "colab": {
          "base_uri": "https://localhost:8080/",
          "height": 97
        },
        "id": "pwzbFZAoz2Ev",
        "outputId": "ffe00146-009d-458e-ff79-f76ef653ddb6"
      },
      "execution_count": 11,
      "outputs": [
        {
          "output_type": "display_data",
          "data": {
            "text/plain": [
              "\u001b[91m╭──────────────────────────────────────────────────────────────────────────────────────────────────╮\u001b[0m\n",
              "\u001b[91m│\u001b[0m from sagemaker.sklearn.modelimport SKLearnModel                                                  \u001b[91m│\u001b[0m\n",
              "\u001b[91m│\u001b[0m                                    \u001b[1;91m▲\u001b[0m                                                             \u001b[91m│\u001b[0m\n",
              "\u001b[91m╰──────────────────────────────────────────────────────────────────────────────────────────────────╯\u001b[0m\n",
              "\u001b[1;91mSyntaxError: \u001b[0minvalid syntax\n"
            ],
            "text/html": [
              "<pre style=\"white-space:pre;overflow-x:auto;line-height:normal;font-family:Menlo,'DejaVu Sans Mono',consolas,'Courier New',monospace\"><span style=\"color: #ff0000; text-decoration-color: #ff0000\">╭──────────────────────────────────────────────────────────────────────────────────────────────────╮</span>\n",
              "<span style=\"color: #ff0000; text-decoration-color: #ff0000\">│</span> from sagemaker.sklearn.modelimport SKLearnModel                                                  <span style=\"color: #ff0000; text-decoration-color: #ff0000\">│</span>\n",
              "<span style=\"color: #ff0000; text-decoration-color: #ff0000\">│</span>                                    <span style=\"color: #ff0000; text-decoration-color: #ff0000; font-weight: bold\">▲</span>                                                             <span style=\"color: #ff0000; text-decoration-color: #ff0000\">│</span>\n",
              "<span style=\"color: #ff0000; text-decoration-color: #ff0000\">╰──────────────────────────────────────────────────────────────────────────────────────────────────╯</span>\n",
              "<span style=\"color: #ff0000; text-decoration-color: #ff0000; font-weight: bold\">SyntaxError: </span>invalid syntax\n",
              "</pre>\n"
            ]
          },
          "metadata": {}
        }
      ]
    },
    {
      "cell_type": "code",
      "source": [
        "import json\n",
        "test_data = json.dumps([\"This product is amazing!\", \"Worst product ever.\"])\n",
        "print(\"Predictions:\", response)"
      ],
      "metadata": {
        "colab": {
          "base_uri": "https://localhost:8080/",
          "height": 81
        },
        "id": "5c82ryE83ny0",
        "outputId": "c1ec440d-c8c0-4a9d-8f0a-789ffa342f45"
      },
      "execution_count": 12,
      "outputs": [
        {
          "output_type": "display_data",
          "data": {
            "text/plain": [
              "\u001b[38;2;255;0;0m╭─\u001b[0m\u001b[38;2;255;0;0m──────────────────────────────\u001b[0m\u001b[38;2;255;0;0m \u001b[0m\u001b[1;38;2;255;0;0mTraceback \u001b[0m\u001b[1;2;38;2;255;0;0m(most recent call last)\u001b[0m\u001b[38;2;255;0;0m \u001b[0m\u001b[38;2;255;0;0m───────────────────────────────\u001b[0m\u001b[38;2;255;0;0m─╮\u001b[0m\n",
              "\u001b[38;2;255;0;0m│\u001b[0m in \u001b[92m<cell line: 0>\u001b[0m:\u001b[94m3\u001b[0m                                                                              \u001b[38;2;255;0;0m│\u001b[0m\n",
              "\u001b[38;2;255;0;0m╰──────────────────────────────────────────────────────────────────────────────────────────────────╯\u001b[0m\n",
              "\u001b[1;91mNameError: \u001b[0mname \u001b[38;2;0;135;0m'response'\u001b[0m is not defined\n"
            ],
            "text/html": [
              "<pre style=\"white-space:pre;overflow-x:auto;line-height:normal;font-family:Menlo,'DejaVu Sans Mono',consolas,'Courier New',monospace\"><span style=\"color: #ff0000; text-decoration-color: #ff0000\">╭─────────────────────────────── </span><span style=\"color: #ff0000; text-decoration-color: #ff0000; font-weight: bold\">Traceback </span><span style=\"color: #ff7f7f; text-decoration-color: #ff7f7f; font-weight: bold\">(most recent call last)</span><span style=\"color: #ff0000; text-decoration-color: #ff0000\"> ────────────────────────────────╮</span>\n",
              "<span style=\"color: #ff0000; text-decoration-color: #ff0000\">│</span> in <span style=\"color: #00ff00; text-decoration-color: #00ff00\">&lt;cell line: 0&gt;</span>:<span style=\"color: #0000ff; text-decoration-color: #0000ff\">3</span>                                                                              <span style=\"color: #ff0000; text-decoration-color: #ff0000\">│</span>\n",
              "<span style=\"color: #ff0000; text-decoration-color: #ff0000\">╰──────────────────────────────────────────────────────────────────────────────────────────────────╯</span>\n",
              "<span style=\"color: #ff0000; text-decoration-color: #ff0000; font-weight: bold\">NameError: </span>name <span style=\"color: #008700; text-decoration-color: #008700\">'response'</span> is not defined\n",
              "</pre>\n"
            ]
          },
          "metadata": {}
        }
      ]
    },
    {
      "cell_type": "markdown",
      "source": [
        "CleanUp Response"
      ],
      "metadata": {
        "id": "F014EnFU3vp4"
      }
    },
    {
      "cell_type": "markdown",
      "source": [],
      "metadata": {
        "id": "wcHFc7aT3uHI"
      }
    },
    {
      "cell_type": "code",
      "source": [
        "predictor.delete_endpoint()"
      ],
      "metadata": {
        "colab": {
          "base_uri": "https://localhost:8080/",
          "height": 81
        },
        "id": "SiAM82tH3oAs",
        "outputId": "6959b67c-8ccf-48db-9408-dddb74f8c7c4"
      },
      "execution_count": 13,
      "outputs": [
        {
          "output_type": "display_data",
          "data": {
            "text/plain": [
              "\u001b[38;2;255;0;0m╭─\u001b[0m\u001b[38;2;255;0;0m──────────────────────────────\u001b[0m\u001b[38;2;255;0;0m \u001b[0m\u001b[1;38;2;255;0;0mTraceback \u001b[0m\u001b[1;2;38;2;255;0;0m(most recent call last)\u001b[0m\u001b[38;2;255;0;0m \u001b[0m\u001b[38;2;255;0;0m───────────────────────────────\u001b[0m\u001b[38;2;255;0;0m─╮\u001b[0m\n",
              "\u001b[38;2;255;0;0m│\u001b[0m in \u001b[92m<cell line: 0>\u001b[0m:\u001b[94m1\u001b[0m                                                                              \u001b[38;2;255;0;0m│\u001b[0m\n",
              "\u001b[38;2;255;0;0m╰──────────────────────────────────────────────────────────────────────────────────────────────────╯\u001b[0m\n",
              "\u001b[1;91mNameError: \u001b[0mname \u001b[38;2;0;135;0m'predictor'\u001b[0m is not defined\n"
            ],
            "text/html": [
              "<pre style=\"white-space:pre;overflow-x:auto;line-height:normal;font-family:Menlo,'DejaVu Sans Mono',consolas,'Courier New',monospace\"><span style=\"color: #ff0000; text-decoration-color: #ff0000\">╭─────────────────────────────── </span><span style=\"color: #ff0000; text-decoration-color: #ff0000; font-weight: bold\">Traceback </span><span style=\"color: #ff7f7f; text-decoration-color: #ff7f7f; font-weight: bold\">(most recent call last)</span><span style=\"color: #ff0000; text-decoration-color: #ff0000\"> ────────────────────────────────╮</span>\n",
              "<span style=\"color: #ff0000; text-decoration-color: #ff0000\">│</span> in <span style=\"color: #00ff00; text-decoration-color: #00ff00\">&lt;cell line: 0&gt;</span>:<span style=\"color: #0000ff; text-decoration-color: #0000ff\">1</span>                                                                              <span style=\"color: #ff0000; text-decoration-color: #ff0000\">│</span>\n",
              "<span style=\"color: #ff0000; text-decoration-color: #ff0000\">╰──────────────────────────────────────────────────────────────────────────────────────────────────╯</span>\n",
              "<span style=\"color: #ff0000; text-decoration-color: #ff0000; font-weight: bold\">NameError: </span>name <span style=\"color: #008700; text-decoration-color: #008700\">'predictor'</span> is not defined\n",
              "</pre>\n"
            ]
          },
          "metadata": {}
        }
      ]
    }
  ]
}